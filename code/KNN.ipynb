{
 "cells": [
  {
   "cell_type": "code",
   "execution_count": 5,
   "metadata": {},
   "outputs": [],
   "source": [
    "import pandas as pd\n",
    "import numpy as np\n",
    "import matplotlib.pyplot as plt\n",
    "import seaborn as sns\n",
    "import matplotlib\n",
    "from sklearn.ensemble import IsolationForest\n",
    "from sklearn.datasets import load_digits\n",
    "from sklearn.model_selection import train_test_split\n",
    "from sklearn.linear_model import LogisticRegression\n",
    "from sklearn.cluster import KMeans\n",
    "from sklearn.metrics import accuracy_score\n",
    "from sklearn import metrics"
   ]
  },
  {
   "cell_type": "code",
   "execution_count": 6,
   "metadata": {},
   "outputs": [],
   "source": [
    "df = pd.read_csv(\"C:\\\\Users\\\\adity\\\\OneDrive\\\\Desktop\\\\IBM\\\\AB1_data.csv\")"
   ]
  },
  {
   "cell_type": "code",
   "execution_count": 7,
   "metadata": {},
   "outputs": [
    {
     "data": {
      "text/html": [
       "<div>\n",
       "<style scoped>\n",
       "    .dataframe tbody tr th:only-of-type {\n",
       "        vertical-align: middle;\n",
       "    }\n",
       "\n",
       "    .dataframe tbody tr th {\n",
       "        vertical-align: top;\n",
       "    }\n",
       "\n",
       "    .dataframe thead th {\n",
       "        text-align: right;\n",
       "    }\n",
       "</style>\n",
       "<table border=\"1\" class=\"dataframe\">\n",
       "  <thead>\n",
       "    <tr style=\"text-align: right;\">\n",
       "      <th></th>\n",
       "      <th>No.</th>\n",
       "      <th>Time</th>\n",
       "      <th>Length</th>\n",
       "    </tr>\n",
       "  </thead>\n",
       "  <tbody>\n",
       "    <tr>\n",
       "      <th>count</th>\n",
       "      <td>11677.000000</td>\n",
       "      <td>11677.000000</td>\n",
       "      <td>11677.000000</td>\n",
       "    </tr>\n",
       "    <tr>\n",
       "      <th>mean</th>\n",
       "      <td>5839.000000</td>\n",
       "      <td>34.448821</td>\n",
       "      <td>557.492935</td>\n",
       "    </tr>\n",
       "    <tr>\n",
       "      <th>std</th>\n",
       "      <td>3371.003881</td>\n",
       "      <td>19.705895</td>\n",
       "      <td>1058.157517</td>\n",
       "    </tr>\n",
       "    <tr>\n",
       "      <th>min</th>\n",
       "      <td>1.000000</td>\n",
       "      <td>0.000000</td>\n",
       "      <td>42.000000</td>\n",
       "    </tr>\n",
       "    <tr>\n",
       "      <th>25%</th>\n",
       "      <td>2920.000000</td>\n",
       "      <td>19.124251</td>\n",
       "      <td>60.000000</td>\n",
       "    </tr>\n",
       "    <tr>\n",
       "      <th>50%</th>\n",
       "      <td>5839.000000</td>\n",
       "      <td>32.360053</td>\n",
       "      <td>60.000000</td>\n",
       "    </tr>\n",
       "    <tr>\n",
       "      <th>75%</th>\n",
       "      <td>8758.000000</td>\n",
       "      <td>50.588549</td>\n",
       "      <td>74.000000</td>\n",
       "    </tr>\n",
       "    <tr>\n",
       "      <th>max</th>\n",
       "      <td>11677.000000</td>\n",
       "      <td>67.263828</td>\n",
       "      <td>8523.000000</td>\n",
       "    </tr>\n",
       "  </tbody>\n",
       "</table>\n",
       "</div>"
      ],
      "text/plain": [
       "                No.          Time        Length\n",
       "count  11677.000000  11677.000000  11677.000000\n",
       "mean    5839.000000     34.448821    557.492935\n",
       "std     3371.003881     19.705895   1058.157517\n",
       "min        1.000000      0.000000     42.000000\n",
       "25%     2920.000000     19.124251     60.000000\n",
       "50%     5839.000000     32.360053     60.000000\n",
       "75%     8758.000000     50.588549     74.000000\n",
       "max    11677.000000     67.263828   8523.000000"
      ]
     },
     "execution_count": 7,
     "metadata": {},
     "output_type": "execute_result"
    }
   ],
   "source": [
    "df.describe()"
   ]
  },
  {
   "cell_type": "code",
   "execution_count": 8,
   "metadata": {},
   "outputs": [
    {
     "data": {
      "text/plain": [
       "0"
      ]
     },
     "execution_count": 8,
     "metadata": {},
     "output_type": "execute_result"
    }
   ],
   "source": [
    "df.isnull().sum().sum()"
   ]
  },
  {
   "cell_type": "code",
   "execution_count": 9,
   "metadata": {},
   "outputs": [
    {
     "data": {
      "text/html": [
       "<div>\n",
       "<style scoped>\n",
       "    .dataframe tbody tr th:only-of-type {\n",
       "        vertical-align: middle;\n",
       "    }\n",
       "\n",
       "    .dataframe tbody tr th {\n",
       "        vertical-align: top;\n",
       "    }\n",
       "\n",
       "    .dataframe thead th {\n",
       "        text-align: right;\n",
       "    }\n",
       "</style>\n",
       "<table border=\"1\" class=\"dataframe\">\n",
       "  <thead>\n",
       "    <tr style=\"text-align: right;\">\n",
       "      <th></th>\n",
       "      <th>No.</th>\n",
       "      <th>Time</th>\n",
       "      <th>Source</th>\n",
       "      <th>Destination</th>\n",
       "      <th>Protocol</th>\n",
       "      <th>Length</th>\n",
       "      <th>Info</th>\n",
       "    </tr>\n",
       "  </thead>\n",
       "  <tbody>\n",
       "    <tr>\n",
       "      <th>0</th>\n",
       "      <td>1</td>\n",
       "      <td>0.000000</td>\n",
       "      <td>HewlettP_81:05:00</td>\n",
       "      <td>Broadcast</td>\n",
       "      <td>ARP</td>\n",
       "      <td>60</td>\n",
       "      <td>Who has 172.17.18.180? Tell 172.17.18.254</td>\n",
       "    </tr>\n",
       "    <tr>\n",
       "      <th>1</th>\n",
       "      <td>2</td>\n",
       "      <td>0.004066</td>\n",
       "      <td>106.208.137.231</td>\n",
       "      <td>172.17.18.5</td>\n",
       "      <td>TLSv1.2</td>\n",
       "      <td>1231</td>\n",
       "      <td>Application Data</td>\n",
       "    </tr>\n",
       "    <tr>\n",
       "      <th>2</th>\n",
       "      <td>3</td>\n",
       "      <td>0.004626</td>\n",
       "      <td>172.17.18.5</td>\n",
       "      <td>106.208.137.231</td>\n",
       "      <td>TLSv1.2</td>\n",
       "      <td>615</td>\n",
       "      <td>Application Data, Application Data</td>\n",
       "    </tr>\n",
       "    <tr>\n",
       "      <th>3</th>\n",
       "      <td>4</td>\n",
       "      <td>0.008470</td>\n",
       "      <td>HewlettP_81:05:00</td>\n",
       "      <td>Broadcast</td>\n",
       "      <td>ARP</td>\n",
       "      <td>60</td>\n",
       "      <td>Who has 172.17.18.179? Tell 172.17.18.254</td>\n",
       "    </tr>\n",
       "    <tr>\n",
       "      <th>4</th>\n",
       "      <td>5</td>\n",
       "      <td>0.026256</td>\n",
       "      <td>HewlettP_81:05:00</td>\n",
       "      <td>Broadcast</td>\n",
       "      <td>ARP</td>\n",
       "      <td>60</td>\n",
       "      <td>Who has 172.17.18.182? Tell 172.17.18.254</td>\n",
       "    </tr>\n",
       "  </tbody>\n",
       "</table>\n",
       "</div>"
      ],
      "text/plain": [
       "   No.      Time             Source      Destination Protocol  Length  \\\n",
       "0    1  0.000000  HewlettP_81:05:00        Broadcast      ARP      60   \n",
       "1    2  0.004066    106.208.137.231      172.17.18.5  TLSv1.2    1231   \n",
       "2    3  0.004626        172.17.18.5  106.208.137.231  TLSv1.2     615   \n",
       "3    4  0.008470  HewlettP_81:05:00        Broadcast      ARP      60   \n",
       "4    5  0.026256  HewlettP_81:05:00        Broadcast      ARP      60   \n",
       "\n",
       "                                        Info  \n",
       "0  Who has 172.17.18.180? Tell 172.17.18.254  \n",
       "1                           Application Data  \n",
       "2         Application Data, Application Data  \n",
       "3  Who has 172.17.18.179? Tell 172.17.18.254  \n",
       "4  Who has 172.17.18.182? Tell 172.17.18.254  "
      ]
     },
     "execution_count": 9,
     "metadata": {},
     "output_type": "execute_result"
    }
   ],
   "source": [
    "df.head()"
   ]
  },
  {
   "cell_type": "code",
   "execution_count": 10,
   "metadata": {},
   "outputs": [],
   "source": [
    "df.drop(['Info'] , axis = 1,inplace=True)"
   ]
  },
  {
   "cell_type": "code",
   "execution_count": 11,
   "metadata": {},
   "outputs": [],
   "source": [
    "df.drop(['No.'] , axis = 1,inplace=True)"
   ]
  },
  {
   "cell_type": "code",
   "execution_count": 12,
   "metadata": {},
   "outputs": [
    {
     "data": {
      "text/html": [
       "<div>\n",
       "<style scoped>\n",
       "    .dataframe tbody tr th:only-of-type {\n",
       "        vertical-align: middle;\n",
       "    }\n",
       "\n",
       "    .dataframe tbody tr th {\n",
       "        vertical-align: top;\n",
       "    }\n",
       "\n",
       "    .dataframe thead th {\n",
       "        text-align: right;\n",
       "    }\n",
       "</style>\n",
       "<table border=\"1\" class=\"dataframe\">\n",
       "  <thead>\n",
       "    <tr style=\"text-align: right;\">\n",
       "      <th></th>\n",
       "      <th>Time</th>\n",
       "      <th>Source</th>\n",
       "      <th>Destination</th>\n",
       "      <th>Protocol</th>\n",
       "      <th>Length</th>\n",
       "    </tr>\n",
       "  </thead>\n",
       "  <tbody>\n",
       "    <tr>\n",
       "      <th>0</th>\n",
       "      <td>0.000000</td>\n",
       "      <td>HewlettP_81:05:00</td>\n",
       "      <td>Broadcast</td>\n",
       "      <td>ARP</td>\n",
       "      <td>60</td>\n",
       "    </tr>\n",
       "    <tr>\n",
       "      <th>1</th>\n",
       "      <td>0.004066</td>\n",
       "      <td>106.208.137.231</td>\n",
       "      <td>172.17.18.5</td>\n",
       "      <td>TLSv1.2</td>\n",
       "      <td>1231</td>\n",
       "    </tr>\n",
       "    <tr>\n",
       "      <th>2</th>\n",
       "      <td>0.004626</td>\n",
       "      <td>172.17.18.5</td>\n",
       "      <td>106.208.137.231</td>\n",
       "      <td>TLSv1.2</td>\n",
       "      <td>615</td>\n",
       "    </tr>\n",
       "    <tr>\n",
       "      <th>3</th>\n",
       "      <td>0.008470</td>\n",
       "      <td>HewlettP_81:05:00</td>\n",
       "      <td>Broadcast</td>\n",
       "      <td>ARP</td>\n",
       "      <td>60</td>\n",
       "    </tr>\n",
       "    <tr>\n",
       "      <th>4</th>\n",
       "      <td>0.026256</td>\n",
       "      <td>HewlettP_81:05:00</td>\n",
       "      <td>Broadcast</td>\n",
       "      <td>ARP</td>\n",
       "      <td>60</td>\n",
       "    </tr>\n",
       "  </tbody>\n",
       "</table>\n",
       "</div>"
      ],
      "text/plain": [
       "       Time             Source      Destination Protocol  Length\n",
       "0  0.000000  HewlettP_81:05:00        Broadcast      ARP      60\n",
       "1  0.004066    106.208.137.231      172.17.18.5  TLSv1.2    1231\n",
       "2  0.004626        172.17.18.5  106.208.137.231  TLSv1.2     615\n",
       "3  0.008470  HewlettP_81:05:00        Broadcast      ARP      60\n",
       "4  0.026256  HewlettP_81:05:00        Broadcast      ARP      60"
      ]
     },
     "execution_count": 12,
     "metadata": {},
     "output_type": "execute_result"
    }
   ],
   "source": [
    "df.head()"
   ]
  },
  {
   "cell_type": "code",
   "execution_count": 13,
   "metadata": {},
   "outputs": [],
   "source": [
    "x = df.iloc[:, :-1].values\n",
    "y = df.iloc[:, -1].values"
   ]
  },
  {
   "cell_type": "code",
   "execution_count": 14,
   "metadata": {},
   "outputs": [
    {
     "name": "stdout",
     "output_type": "stream",
     "text": [
      "Shape of x: (11677, 4)\n",
      "Shape of y: (11677,)\n"
     ]
    }
   ],
   "source": [
    "print(\"Shape of x:\", x.shape)\n",
    "print(\"Shape of y:\", y.shape)"
   ]
  },
  {
   "cell_type": "code",
   "execution_count": 15,
   "metadata": {},
   "outputs": [],
   "source": [
    "from sklearn.preprocessing import LabelEncoder,OneHotEncoder\n",
    "labelEncoder_X = LabelEncoder()\n",
    "x[:,1] = labelEncoder_X.fit_transform(x[:,1])\n",
    "x[:,2] = labelEncoder_X.fit_transform(x[:,2])\n",
    "x[:,3] = labelEncoder_X.fit_transform(x[:,3])"
   ]
  },
  {
   "cell_type": "code",
   "execution_count": 16,
   "metadata": {},
   "outputs": [
    {
     "name": "stderr",
     "output_type": "stream",
     "text": [
      "C:\\Users\\adity\\Anaconda3\\lib\\site-packages\\sklearn\\preprocessing\\_encoders.py:415: FutureWarning: The handling of integer data will change in version 0.22. Currently, the categories are determined based on the range [0, max(values)], while in the future they will be determined based on the unique values.\n",
      "If you want the future behaviour and silence this warning, you can specify \"categories='auto'\".\n",
      "In case you used a LabelEncoder before this OneHotEncoder to convert the categories to integers, then you can now use the OneHotEncoder directly.\n",
      "  warnings.warn(msg, FutureWarning)\n",
      "C:\\Users\\adity\\Anaconda3\\lib\\site-packages\\sklearn\\preprocessing\\_encoders.py:451: DeprecationWarning: The 'categorical_features' keyword is deprecated in version 0.20 and will be removed in 0.22. You can use the ColumnTransformer instead.\n",
      "  \"use the ColumnTransformer instead.\", DeprecationWarning)\n"
     ]
    }
   ],
   "source": [
    "onehotencoder = OneHotEncoder(categorical_features = [0,1,2,3])\n",
    "x = onehotencoder.fit_transform(x).toarray()"
   ]
  },
  {
   "cell_type": "code",
   "execution_count": 17,
   "metadata": {},
   "outputs": [],
   "source": [
    "from sklearn.model_selection import train_test_split\n",
    "\n",
    "X_train, X_test, y_train, y_test = train_test_split(x, y, test_size = 0.2, random_state=1)"
   ]
  },
  {
   "cell_type": "code",
   "execution_count": 18,
   "metadata": {},
   "outputs": [
    {
     "data": {
      "text/plain": [
       "KNeighborsClassifier(algorithm='auto', leaf_size=30, metric='minkowski',\n",
       "                     metric_params=None, n_jobs=None, n_neighbors=3, p=2,\n",
       "                     weights='uniform')"
      ]
     },
     "execution_count": 18,
     "metadata": {},
     "output_type": "execute_result"
    }
   ],
   "source": [
    "from sklearn.neighbors import KNeighborsClassifier\n",
    "\n",
    "knn = KNeighborsClassifier(n_neighbors = 3)\n",
    "\n",
    "knn.fit(X_train,y_train)"
   ]
  },
  {
   "cell_type": "code",
   "execution_count": 19,
   "metadata": {},
   "outputs": [
    {
     "data": {
      "text/plain": [
       "array([  66,   60,   60, 1080,   60], dtype=int64)"
      ]
     },
     "execution_count": 19,
     "metadata": {},
     "output_type": "execute_result"
    }
   ],
   "source": [
    "knn.predict(X_test)[0:5]"
   ]
  },
  {
   "cell_type": "code",
   "execution_count": 20,
   "metadata": {},
   "outputs": [
    {
     "data": {
      "text/plain": [
       "0.877568493150685"
      ]
     },
     "execution_count": 20,
     "metadata": {},
     "output_type": "execute_result"
    }
   ],
   "source": [
    "knn.score(X_test, y_test)"
   ]
  },
  {
   "cell_type": "code",
   "execution_count": 22,
   "metadata": {},
   "outputs": [
    {
     "name": "stdout",
     "output_type": "stream",
     "text": [
      "              precision    recall  f1-score   support\n",
      "\n",
      "          54       0.44      0.57      0.50         7\n",
      "          60       1.00      1.00      1.00      1195\n",
      "          62       0.00      0.00      0.00         0\n",
      "          66       0.91      0.90      0.90       541\n",
      "          70       0.00      0.00      0.00         0\n",
      "          74       0.15      0.80      0.26         5\n",
      "          78       0.45      0.45      0.45        29\n",
      "          82       1.00      1.00      1.00         2\n",
      "          86       0.00      0.00      0.00         0\n",
      "          90       0.00      0.00      0.00         2\n",
      "          91       0.00      0.00      0.00         1\n",
      "          92       1.00      1.00      1.00        10\n",
      "          93       0.00      0.00      0.00         0\n",
      "          94       0.40      0.15      0.22        13\n",
      "          97       0.00      0.00      0.00         0\n",
      "         105       0.00      0.00      0.00         0\n",
      "         117       0.50      0.22      0.31         9\n",
      "         172       0.00      0.00      0.00         0\n",
      "         180       1.00      0.33      0.50         3\n",
      "         192       0.50      0.10      0.17        10\n",
      "         198       0.00      0.00      0.00         0\n",
      "         203       0.25      0.15      0.19        13\n",
      "         211       0.00      0.00      0.00         2\n",
      "         236       0.00      0.00      0.00         0\n",
      "         254       0.00      0.00      0.00         0\n",
      "         276       0.00      0.00      0.00         0\n",
      "         297       0.00      0.00      0.00         0\n",
      "         305       0.50      1.00      0.67         1\n",
      "         306       0.00      0.00      0.00         2\n",
      "         318       0.00      0.00      0.00         1\n",
      "         328       0.00      0.00      0.00         0\n",
      "         340       0.40      0.29      0.33         7\n",
      "         354       0.00      0.00      0.00         0\n",
      "         414       0.00      0.00      0.00         0\n",
      "         463       0.00      0.00      0.00         0\n",
      "         521       0.00      0.00      0.00         0\n",
      "         526       0.00      0.00      0.00         6\n",
      "         531       0.00      0.00      0.00         0\n",
      "         538       0.00      0.00      0.00         0\n",
      "         547       0.00      0.00      0.00         1\n",
      "         551       0.00      0.00      0.00         0\n",
      "         566       1.00      0.20      0.33         5\n",
      "         571       0.00      0.00      0.00         0\n",
      "         578       0.00      0.00      0.00         0\n",
      "         583       0.00      0.00      0.00         0\n",
      "         587       0.00      0.00      0.00         0\n",
      "         590       0.00      0.00      0.00         2\n",
      "         591       0.00      0.00      0.00         1\n",
      "         593       0.50      0.25      0.33         4\n",
      "         603       0.00      0.00      0.00         0\n",
      "         611       0.00      0.00      0.00         0\n",
      "         615       0.00      0.00      0.00         1\n",
      "         630       1.00      1.00      1.00         3\n",
      "         661       0.00      0.00      0.00         0\n",
      "         699       0.00      0.00      0.00         2\n",
      "         732       0.00      0.00      0.00         0\n",
      "         781       0.00      0.00      0.00         0\n",
      "         782       0.00      0.00      0.00         0\n",
      "         796       1.00      0.40      0.57         5\n",
      "         811       0.00      0.00      0.00         3\n",
      "         814       0.00      0.00      0.00         0\n",
      "         852       0.00      0.00      0.00         0\n",
      "         886       0.00      0.00      0.00         0\n",
      "         890       0.00      0.00      0.00         0\n",
      "         898       0.00      0.00      0.00         1\n",
      "         911       0.00      0.00      0.00         0\n",
      "         923       0.00      0.00      0.00         0\n",
      "         945       0.00      0.00      0.00         0\n",
      "         977       0.00      0.00      0.00         0\n",
      "         994       0.00      0.00      0.00         0\n",
      "        1007       0.00      0.00      0.00         0\n",
      "        1026       0.00      0.00      0.00         0\n",
      "        1042       0.00      0.00      0.00         0\n",
      "        1062       0.00      0.00      0.00         0\n",
      "        1070       0.00      0.00      0.00         0\n",
      "        1080       1.00      0.29      0.44         7\n",
      "        1173       0.00      0.00      0.00         0\n",
      "        1177       0.00      0.00      0.00         0\n",
      "        1181       0.00      0.00      0.00         0\n",
      "        1191       0.00      0.00      0.00         0\n",
      "        1208       0.00      0.00      0.00         1\n",
      "        1225       0.00      0.00      0.00         0\n",
      "        1227       0.00      0.00      0.00         0\n",
      "        1231       0.00      0.00      0.00         2\n",
      "        1292       0.00      0.00      0.00         0\n",
      "        1319       0.00      0.00      0.00         0\n",
      "        1324       0.00      0.00      0.00         1\n",
      "        1328       0.00      0.00      0.00         0\n",
      "        1346       0.00      0.00      0.00         0\n",
      "        1354       0.00      0.00      0.00         0\n",
      "        1358       0.00      0.00      0.00         2\n",
      "        1390       0.00      0.00      0.00         0\n",
      "        1409       0.00      0.00      0.00         8\n",
      "        1418       0.71      0.92      0.80        24\n",
      "        1474       0.00      0.00      0.00         0\n",
      "        1489       0.00      0.00      0.00         0\n",
      "        1514       0.00      0.00      0.00        10\n",
      "        1604       0.00      0.00      0.00         1\n",
      "        1731       0.00      0.00      0.00         0\n",
      "        1981       0.00      0.00      0.00         0\n",
      "        2105       0.00      0.00      0.00         2\n",
      "        2191       0.00      0.00      0.00         0\n",
      "        2334       0.00      0.00      0.00         0\n",
      "        2377       0.00      0.00      0.00         0\n",
      "        2491       0.00      0.00      0.00         0\n",
      "        2524       0.00      0.00      0.00         0\n",
      "        2609       0.00      0.00      0.00         0\n",
      "        2627       0.00      0.00      0.00         0\n",
      "        2642       0.89      0.84      0.87        50\n",
      "        2770       0.87      0.78      0.82       255\n",
      "        2782       0.90      0.54      0.68        50\n",
      "        2882       0.67      0.40      0.50         5\n",
      "        2962       0.74      0.81      0.77        31\n",
      "        3922       0.00      0.00      0.00         0\n",
      "        4098       0.00      0.00      0.00         0\n",
      "        4410       0.00      0.00      0.00         0\n",
      "        4797       0.00      0.00      0.00         0\n",
      "        5510       0.00      0.00      0.00         0\n",
      "        6874       0.00      0.00      0.00         0\n",
      "\n",
      "    accuracy                           0.88      2336\n",
      "   macro avg       0.15      0.12      0.12      2336\n",
      "weighted avg       0.90      0.88      0.89      2336\n",
      "\n"
     ]
    },
    {
     "name": "stderr",
     "output_type": "stream",
     "text": [
      "C:\\Users\\adity\\Anaconda3\\lib\\site-packages\\sklearn\\metrics\\classification.py:1437: UndefinedMetricWarning: Precision and F-score are ill-defined and being set to 0.0 in labels with no predicted samples.\n",
      "  'precision', 'predicted', average, warn_for)\n",
      "C:\\Users\\adity\\Anaconda3\\lib\\site-packages\\sklearn\\metrics\\classification.py:1439: UndefinedMetricWarning: Recall and F-score are ill-defined and being set to 0.0 in labels with no true samples.\n",
      "  'recall', 'true', average, warn_for)\n"
     ]
    }
   ],
   "source": [
    "y_pred = knn.predict(X_test)\n",
    "cm_train = metrics.classification_report(y_pred , y_test)\n",
    "print(cm_train)"
   ]
  },
  {
   "cell_type": "code",
   "execution_count": 17,
   "metadata": {},
   "outputs": [
    {
     "name": "stderr",
     "output_type": "stream",
     "text": [
      "C:\\Users\\adity\\Anaconda3\\lib\\site-packages\\sklearn\\model_selection\\_split.py:657: Warning: The least populated class in y has only 1 members, which is too few. The minimum number of members in any class cannot be less than n_splits=5.\n",
      "  % (min_groups, self.n_splits)), Warning)\n"
     ]
    },
    {
     "name": "stdout",
     "output_type": "stream",
     "text": [
      "[0.59363817 0.8167517  0.68908297 0.64698105 0.57174589]\n",
      "cv_scores mean:0.6636399561444417\n"
     ]
    }
   ],
   "source": [
    "from sklearn.model_selection import cross_val_score\n",
    "import numpy as np\n",
    "\n",
    "knn_cv = KNeighborsClassifier(n_neighbors=3)\n",
    " \n",
    "cv_scores = cross_val_score(knn_cv, x, y, cv=5)\n",
    "\n",
    "\n",
    "print(cv_scores)\n",
    "print('cv_scores mean:{}'.format(np.mean(cv_scores)))"
   ]
  },
  {
   "cell_type": "code",
   "execution_count": 18,
   "metadata": {},
   "outputs": [
    {
     "name": "stderr",
     "output_type": "stream",
     "text": [
      "C:\\Users\\adity\\Anaconda3\\lib\\site-packages\\sklearn\\model_selection\\_split.py:657: Warning: The least populated class in y has only 1 members, which is too few. The minimum number of members in any class cannot be less than n_splits=5.\n",
      "  % (min_groups, self.n_splits)), Warning)\n",
      "C:\\Users\\adity\\Anaconda3\\lib\\site-packages\\sklearn\\model_selection\\_search.py:813: DeprecationWarning: The default of the `iid` parameter will change from True to False in version 0.22 and will be removed in 0.24. This will change numeric results when test-set sizes are unequal.\n",
      "  DeprecationWarning)\n"
     ]
    },
    {
     "data": {
      "text/plain": [
       "GridSearchCV(cv=5, error_score='raise-deprecating',\n",
       "             estimator=KNeighborsClassifier(algorithm='auto', leaf_size=30,\n",
       "                                            metric='minkowski',\n",
       "                                            metric_params=None, n_jobs=None,\n",
       "                                            n_neighbors=5, p=2,\n",
       "                                            weights='uniform'),\n",
       "             iid='warn', n_jobs=None,\n",
       "             param_grid={'n_neighbors': array([ 1,  2,  3,  4,  5,  6,  7,  8,  9, 10, 11, 12, 13, 14, 15, 16, 17,\n",
       "       18, 19, 20, 21, 22, 23, 24])},\n",
       "             pre_dispatch='2*n_jobs', refit=True, return_train_score=False,\n",
       "             scoring=None, verbose=0)"
      ]
     },
     "execution_count": 18,
     "metadata": {},
     "output_type": "execute_result"
    }
   ],
   "source": [
    "from sklearn.model_selection import GridSearchCV\n",
    "\n",
    "knn2 = KNeighborsClassifier()\n",
    "\n",
    "\n",
    "param_grid = {'n_neighbors': np.arange(1, 25)}\n",
    "\n",
    "\n",
    "knn_gscv = GridSearchCV(knn2, param_grid, cv=5)\n",
    "\n",
    "\n",
    "knn_gscv.fit(x, y)"
   ]
  },
  {
   "cell_type": "code",
   "execution_count": 19,
   "metadata": {},
   "outputs": [
    {
     "data": {
      "text/plain": [
       "{'n_neighbors': 23}"
      ]
     },
     "execution_count": 19,
     "metadata": {},
     "output_type": "execute_result"
    }
   ],
   "source": [
    "knn_gscv.best_params_"
   ]
  },
  {
   "cell_type": "code",
   "execution_count": 20,
   "metadata": {},
   "outputs": [
    {
     "data": {
      "text/plain": [
       "0.722017641517513"
      ]
     },
     "execution_count": 20,
     "metadata": {},
     "output_type": "execute_result"
    }
   ],
   "source": [
    "knn_gscv.best_score_"
   ]
  }
 ],
 "metadata": {
  "kernelspec": {
   "display_name": "Python 3",
   "language": "python",
   "name": "python3"
  },
  "language_info": {
   "codemirror_mode": {
    "name": "ipython",
    "version": 3
   },
   "file_extension": ".py",
   "mimetype": "text/x-python",
   "name": "python",
   "nbconvert_exporter": "python",
   "pygments_lexer": "ipython3",
   "version": "3.7.3"
  }
 },
 "nbformat": 4,
 "nbformat_minor": 2
}
