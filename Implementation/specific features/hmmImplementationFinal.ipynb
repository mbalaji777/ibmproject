{
 "cells": [
  {
   "cell_type": "code",
   "execution_count": 1,
   "metadata": {
    "colab": {
     "base_uri": "https://localhost:8080/",
     "height": 423
    },
    "colab_type": "code",
    "id": "lVzfCrYt-t7g",
    "outputId": "8a57b53b-dd47-495d-dfb4-52e3184bd55b"
   },
   "outputs": [],
   "source": [
    "import pandas as pd\n",
    "from time import time\n",
    "col_names = [\"duration\",\"protocol_type\",\"service\",\"flag\",\"src_bytes\",\n",
    "    \"dst_bytes\",\"land\",\"wrong_fragment\",\"urgent\",\"hot\",\"num_failed_logins\",\n",
    "    \"logged_in\",\"num_compromised\",\"root_shell\",\"su_attempted\",\"num_root\",\n",
    "    \"num_file_creations\",\"num_shells\",\"num_access_files\",\"num_outbound_cmds\",\n",
    "    \"is_host_login\",\"is_guest_login\",\"count\",\"srv_count\",\"serror_rate\",\n",
    "    \"srv_serror_rate\",\"rerror_rate\",\"srv_rerror_rate\",\"same_srv_rate\",\n",
    "    \"diff_srv_rate\",\"srv_diff_host_rate\",\"dst_host_count\",\"dst_host_srv_count\",\n",
    "    \"dst_host_same_srv_rate\",\"dst_host_diff_srv_rate\",\"dst_host_same_src_port_rate\",\n",
    "    \"dst_host_srv_diff_host_rate\",\"dst_host_serror_rate\",\"dst_host_srv_serror_rate\",\n",
    "    \"dst_host_rerror_rate\",\"dst_host_srv_rerror_rate\",\"label\"]\n",
    "data01_ten_percent = pd.read_csv(\"preprocessed_kddcup_data\")"
   ]
  },
  {
   "cell_type": "code",
   "execution_count": 2,
   "metadata": {
    "colab": {
     "base_uri": "https://localhost:8080/",
     "height": 167
    },
    "colab_type": "code",
    "id": "BBqf_tai_G1e",
    "outputId": "777977b3-a382-4ed5-dbe9-0e7956119e12"
   },
   "outputs": [
    {
     "data": {
      "text/plain": [
       "dos       391458\n",
       "normal     97278\n",
       "Name: label, dtype: int64"
      ]
     },
     "execution_count": 2,
     "metadata": {},
     "output_type": "execute_result"
    }
   ],
   "source": [
    "data01_ten_percent['label'].value_counts()"
   ]
  },
  {
   "cell_type": "code",
   "execution_count": 3,
   "metadata": {},
   "outputs": [],
   "source": [
    "data01_ten_percent.drop(['dst_bytes', 'land', 'root_shell', 'su_attempted', 'num_shells', 'num_access_files', 'num_outbound_cmds', 'serror_rate', 'srv_rerror_rate', 'same_srv_rate', 'diff_srv_rate', 'dst_host_count', 'dst_host_srv_count', 'dst_host_diff_srv_rate', 'dst_host_same_src_port_rate', 'dst_host_srv_diff_host_rate', 'dst_host_serror_rate', 'dst_host_rerror_rate'], axis = 1, inplace=True) "
   ]
  },
  {
   "cell_type": "code",
   "execution_count": 4,
   "metadata": {},
   "outputs": [
    {
     "data": {
      "text/plain": [
       "duration                      int64\n",
       "protocol_type                 int64\n",
       "service                       int64\n",
       "flag                          int64\n",
       "src_bytes                     int64\n",
       "wrong_fragment                int64\n",
       "urgent                        int64\n",
       "hot                           int64\n",
       "num_failed_logins             int64\n",
       "logged_in                     int64\n",
       "num_compromised               int64\n",
       "num_root                      int64\n",
       "num_file_creations            int64\n",
       "is_host_login                 int64\n",
       "is_guest_login                int64\n",
       "count                         int64\n",
       "srv_count                     int64\n",
       "srv_serror_rate             float64\n",
       "rerror_rate                 float64\n",
       "srv_diff_host_rate          float64\n",
       "dst_host_same_srv_rate      float64\n",
       "dst_host_srv_serror_rate    float64\n",
       "dst_host_srv_rerror_rate    float64\n",
       "label                        object\n",
       "dtype: object"
      ]
     },
     "execution_count": 4,
     "metadata": {},
     "output_type": "execute_result"
    }
   ],
   "source": [
    "data01_ten_percent.dtypes"
   ]
  },
  {
   "cell_type": "code",
   "execution_count": 5,
   "metadata": {
    "colab": {},
    "colab_type": "code",
    "id": "cxZQHaSN_OgH"
   },
   "outputs": [],
   "source": [
    "num_features = [\n",
    "   \"duration\",\"protocol_type\",\"service\",\"flag\",\"src_bytes\",\"wrong_fragment\",\"urgent\",\"hot\",\"num_failed_logins\",\"logged_in\",\"num_compromised\",\"num_root\",\"num_file_creations\",\"is_host_login\",\"is_guest_login\",\"count\",\"srv_count\",\"srv_serror_rate\",\"rerror_rate\",\"srv_diff_host_rate\",\"dst_host_same_srv_rate\",\"dst_host_srv_serror_rate\",\"dst_host_srv_rerror_rate\"\n",
    "]\n",
    "features = data01_ten_percent[num_features].astype(float)"
   ]
  },
  {
   "cell_type": "code",
   "execution_count": 6,
   "metadata": {
    "colab": {
     "base_uri": "https://localhost:8080/",
     "height": 363
    },
    "colab_type": "code",
    "id": "SfiSjJNf_Y-1",
    "outputId": "78dc0d40-2988-4ed1-8e15-1681ebfe2f6f"
   },
   "outputs": [
    {
     "data": {
      "text/plain": [
       "attack.    488736\n",
       "Name: label, dtype: int64"
      ]
     },
     "execution_count": 6,
     "metadata": {},
     "output_type": "execute_result"
    }
   ],
   "source": [
    "from hmmlearn import hmm\n",
    "labels = data01_ten_percent['label'].copy()\n",
    "labels[labels!='normal.'] = 'attack.'\n",
    "labels.value_counts()"
   ]
  },
  {
   "cell_type": "code",
   "execution_count": 7,
   "metadata": {
    "colab": {
     "base_uri": "https://localhost:8080/",
     "height": 167
    },
    "colab_type": "code",
    "id": "nepDtRpj_pbv",
    "outputId": "92a86203-7e71-4cd2-9203-3d821acfc17f"
   },
   "outputs": [],
   "source": [
    "hmmClassifier = hmm.GaussianHMM(n_components=3, covariance_type=\"full\", n_iter=100)"
   ]
  },
  {
   "cell_type": "code",
   "execution_count": 8,
   "metadata": {
    "colab": {},
    "colab_type": "code",
    "id": "G8Nt6Mke_0dY"
   },
   "outputs": [
    {
     "data": {
      "text/plain": [
       "GaussianHMM(algorithm='viterbi', covariance_type='full', covars_prior=0.01,\n",
       "            covars_weight=1, init_params='stmc', means_prior=0, means_weight=0,\n",
       "            min_covar=0.001, n_components=3, n_iter=100, params='stmc',\n",
       "            random_state=None, startprob_prior=1.0, tol=0.01,\n",
       "            transmat_prior=1.0, verbose=False)"
      ]
     },
     "execution_count": 8,
     "metadata": {},
     "output_type": "execute_result"
    }
   ],
   "source": [
    "hmmClassifier.fit(features)"
   ]
  },
  {
   "cell_type": "code",
   "execution_count": 9,
   "metadata": {
    "colab": {
     "base_uri": "https://localhost:8080/",
     "height": 405
    },
    "colab_type": "code",
    "id": "u64CMmmc_7SP",
    "outputId": "7998ddbb-2d33-4708-9fd2-aba047a89b3b"
   },
   "outputs": [
    {
     "data": {
      "text/plain": [
       "smurf              72535\n",
       "normal             25953\n",
       "neptune            20661\n",
       "mailbomb            5000\n",
       "snmpgetattack       4718\n",
       "guess_passwd        1367\n",
       "warezmaster         1288\n",
       "satan               1243\n",
       "mscan               1053\n",
       "saint                736\n",
       "processtable         506\n",
       "apache2              398\n",
       "portsweep            345\n",
       "ipsweep              256\n",
       "httptunnel           122\n",
       "back                  99\n",
       "pod                   45\n",
       "nmap                  44\n",
       "buffer_overflow       17\n",
       "ps                    14\n",
       "xterm                 13\n",
       "rootkit               13\n",
       "multihop              13\n",
       "sendmail              12\n",
       "named                 10\n",
       "xlock                  9\n",
       "xsnoop                 4\n",
       "ftp_write              3\n",
       "teardrop               3\n",
       "udpstorm               2\n",
       "loadmodule             2\n",
       "perl                   1\n",
       "imap                   1\n",
       "phf                    1\n",
       "worm                   1\n",
       "Name: label, dtype: int64"
      ]
     },
     "execution_count": 9,
     "metadata": {},
     "output_type": "execute_result"
    }
   ],
   "source": [
    "data01_corrected = pd.read_csv(\"corrected_preprocessed_kddcup_data\")\n",
    "data01_corrected['label'].value_counts()"
   ]
  },
  {
   "cell_type": "code",
   "execution_count": 10,
   "metadata": {},
   "outputs": [
    {
     "data": {
      "text/plain": [
       "duration                         int64\n",
       "protocol_type                    int64\n",
       "service                          int64\n",
       "flag                             int64\n",
       "src_bytes                        int64\n",
       "dst_bytes                        int64\n",
       "land                             int64\n",
       "wrong_fragment                   int64\n",
       "urgent                           int64\n",
       "hot                              int64\n",
       "num_failed_logins                int64\n",
       "logged_in                        int64\n",
       "num_compromised                  int64\n",
       "root_shell                       int64\n",
       "su_attempted                     int64\n",
       "num_root                         int64\n",
       "num_file_creations               int64\n",
       "num_shells                       int64\n",
       "num_access_files                 int64\n",
       "num_outbound_cmds                int64\n",
       "is_host_login                    int64\n",
       "is_guest_login                   int64\n",
       "count                            int64\n",
       "srv_count                        int64\n",
       "serror_rate                    float64\n",
       "srv_serror_rate                float64\n",
       "rerror_rate                    float64\n",
       "srv_rerror_rate                float64\n",
       "same_srv_rate                  float64\n",
       "diff_srv_rate                  float64\n",
       "srv_diff_host_rate             float64\n",
       "dst_host_count                   int64\n",
       "dst_host_srv_count               int64\n",
       "dst_host_same_srv_rate         float64\n",
       "dst_host_diff_srv_rate         float64\n",
       "dst_host_same_src_port_rate    float64\n",
       "dst_host_srv_diff_host_rate    float64\n",
       "dst_host_serror_rate           float64\n",
       "dst_host_srv_serror_rate       float64\n",
       "dst_host_rerror_rate           float64\n",
       "dst_host_srv_rerror_rate       float64\n",
       "label                           object\n",
       "dtype: object"
      ]
     },
     "execution_count": 10,
     "metadata": {},
     "output_type": "execute_result"
    }
   ],
   "source": [
    "data01_corrected.dtypes"
   ]
  },
  {
   "cell_type": "code",
   "execution_count": 11,
   "metadata": {},
   "outputs": [],
   "source": [
    "data01_corrected.drop(['dst_bytes', 'land', 'root_shell', 'su_attempted', 'num_shells', 'num_access_files', 'num_outbound_cmds', 'serror_rate', 'srv_rerror_rate', 'same_srv_rate', 'diff_srv_rate', 'dst_host_count', 'dst_host_srv_count', 'dst_host_diff_srv_rate', 'dst_host_same_src_port_rate', 'dst_host_srv_diff_host_rate', 'dst_host_serror_rate', 'dst_host_rerror_rate'], axis = 1, inplace=True) "
   ]
  },
  {
   "cell_type": "code",
   "execution_count": 12,
   "metadata": {
    "colab": {
     "base_uri": "https://localhost:8080/",
     "height": 185
    },
    "colab_type": "code",
    "id": "e21NZlKxAwzv",
    "outputId": "d79190cd-2f83-48d5-aef8-0cec25b88877"
   },
   "outputs": [
    {
     "name": "stderr",
     "output_type": "stream",
     "text": [
      "C:\\Users\\adity\\Anaconda3\\lib\\site-packages\\ipykernel_launcher.py:1: SettingWithCopyWarning: \n",
      "A value is trying to be set on a copy of a slice from a DataFrame\n",
      "\n",
      "See the caveats in the documentation: http://pandas.pydata.org/pandas-docs/stable/indexing.html#indexing-view-versus-copy\n",
      "  \"\"\"Entry point for launching an IPython kernel.\n"
     ]
    },
    {
     "data": {
      "text/plain": [
       "attack.    136488\n",
       "Name: label, dtype: int64"
      ]
     },
     "execution_count": 12,
     "metadata": {},
     "output_type": "execute_result"
    }
   ],
   "source": [
    "data01_corrected['label'][data01_corrected['label']!= 'normal.'] = 'attack.'\n",
    "data01_corrected['label'].value_counts()\n",
    "#print(data01_corrected.columns)"
   ]
  },
  {
   "cell_type": "code",
   "execution_count": 13,
   "metadata": {
    "colab": {
     "base_uri": "https://localhost:8080/",
     "height": 105
    },
    "colab_type": "code",
    "id": "33T6lGHcCBpd",
    "outputId": "f1d8fe36-5962-474f-e2b1-c97e05d79d0b"
   },
   "outputs": [
    {
     "name": "stdout",
     "output_type": "stream",
     "text": [
      "Requirement already satisfied: sklearn in c:\\users\\adity\\anaconda3\\lib\\site-packages (0.0)\n",
      "Requirement already satisfied: scikit-learn in c:\\users\\adity\\anaconda3\\lib\\site-packages (from sklearn) (0.21.2)\n",
      "Requirement already satisfied: scipy>=0.17.0 in c:\\users\\adity\\anaconda3\\lib\\site-packages (from scikit-learn->sklearn) (1.2.1)\n",
      "Requirement already satisfied: joblib>=0.11 in c:\\users\\adity\\anaconda3\\lib\\site-packages (from scikit-learn->sklearn) (0.13.2)\n",
      "Requirement already satisfied: numpy>=1.11.0 in c:\\users\\adity\\anaconda3\\lib\\site-packages (from scikit-learn->sklearn) (1.16.4)\n"
     ]
    }
   ],
   "source": [
    "!pip install sklearn\n"
   ]
  },
  {
   "cell_type": "code",
   "execution_count": 14,
   "metadata": {},
   "outputs": [
    {
     "data": {
      "text/plain": [
       "duration                      int64\n",
       "protocol_type                 int64\n",
       "service                       int64\n",
       "flag                          int64\n",
       "src_bytes                     int64\n",
       "wrong_fragment                int64\n",
       "urgent                        int64\n",
       "hot                           int64\n",
       "num_failed_logins             int64\n",
       "logged_in                     int64\n",
       "num_compromised               int64\n",
       "num_root                      int64\n",
       "num_file_creations            int64\n",
       "is_host_login                 int64\n",
       "is_guest_login                int64\n",
       "count                         int64\n",
       "srv_count                     int64\n",
       "srv_serror_rate             float64\n",
       "rerror_rate                 float64\n",
       "srv_diff_host_rate          float64\n",
       "dst_host_same_srv_rate      float64\n",
       "dst_host_srv_serror_rate    float64\n",
       "dst_host_srv_rerror_rate    float64\n",
       "label                        object\n",
       "dtype: object"
      ]
     },
     "execution_count": 14,
     "metadata": {},
     "output_type": "execute_result"
    }
   ],
   "source": [
    "data01_corrected.dtypes"
   ]
  },
  {
   "cell_type": "code",
   "execution_count": 15,
   "metadata": {
    "colab": {
     "base_uri": "https://localhost:8080/",
     "height": 185
    },
    "colab_type": "code",
    "id": "EfNpI9WXCPxE",
    "outputId": "9634c89d-b5b5-4220-f324-fe4eb71f64c4"
   },
   "outputs": [],
   "source": [
    "from sklearn.model_selection import train_test_split\n",
    "data01_corrected[num_features] = data01_corrected[num_features].astype(float)"
   ]
  },
  {
   "cell_type": "code",
   "execution_count": 16,
   "metadata": {
    "colab": {},
    "colab_type": "code",
    "id": "Rs94Enr0CjDf"
   },
   "outputs": [],
   "source": [
    "feature_train, feature_test, labels_train, labels_test = train_test_split(data01_corrected[num_features], data01_corrected['label'], test_size = 0.1, random_state = 42)"
   ]
  },
  {
   "cell_type": "code",
   "execution_count": 17,
   "metadata": {
    "colab": {},
    "colab_type": "code",
    "id": "leB9ASPSC3BG"
   },
   "outputs": [],
   "source": [
    "pred = hmmClassifier.predict(feature_test)"
   ]
  },
  {
   "cell_type": "code",
   "execution_count": 18,
   "metadata": {
    "colab": {},
    "colab_type": "code",
    "id": "HFcSQnxSHtrb"
   },
   "outputs": [
    {
     "name": "stdout",
     "output_type": "stream",
     "text": [
      "[0 0 2 ... 0 0 0]\n",
      "{0, 1, 2}\n",
      "<class 'numpy.int32'>\n",
      "13649\n"
     ]
    }
   ],
   "source": [
    "print(pred)\n",
    "print(set(pred))\n",
    "print(type(pred[0]))\n",
    "print(len(pred))"
   ]
  },
  {
   "cell_type": "code",
   "execution_count": 19,
   "metadata": {},
   "outputs": [
    {
     "name": "stdout",
     "output_type": "stream",
     "text": [
      "{'attack.'}\n",
      "13649\n"
     ]
    }
   ],
   "source": [
    "type(labels_test)\n",
    "print(set(labels_test))\n",
    "print(len(labels_test))"
   ]
  },
  {
   "cell_type": "code",
   "execution_count": 20,
   "metadata": {},
   "outputs": [
    {
     "name": "stdout",
     "output_type": "stream",
     "text": [
      "5601      attack.\n",
      "58101     attack.\n",
      "80179     attack.\n",
      "14967     attack.\n",
      "17029     attack.\n",
      "26759     attack.\n",
      "14825     attack.\n",
      "45880     attack.\n",
      "115614    attack.\n",
      "9801      attack.\n",
      "103511    attack.\n",
      "80761     attack.\n",
      "92627     attack.\n",
      "92466     attack.\n",
      "133264    attack.\n",
      "26779     attack.\n",
      "52544     attack.\n",
      "201       attack.\n",
      "87587     attack.\n",
      "60860     attack.\n",
      "20061     attack.\n",
      "47895     attack.\n",
      "27022     attack.\n",
      "62075     attack.\n",
      "41695     attack.\n",
      "81194     attack.\n",
      "110446    attack.\n",
      "104556    attack.\n",
      "111740    attack.\n",
      "125913    attack.\n",
      "           ...   \n",
      "120495    attack.\n",
      "81513     attack.\n",
      "75670     attack.\n",
      "84598     attack.\n",
      "30039     attack.\n",
      "86193     attack.\n",
      "94017     attack.\n",
      "78450     attack.\n",
      "19916     attack.\n",
      "102553    attack.\n",
      "92358     attack.\n",
      "44129     attack.\n",
      "26892     attack.\n",
      "14120     attack.\n",
      "78241     attack.\n",
      "63724     attack.\n",
      "93648     attack.\n",
      "56518     attack.\n",
      "118004    attack.\n",
      "72669     attack.\n",
      "128719    attack.\n",
      "6602      attack.\n",
      "101322    attack.\n",
      "131964    attack.\n",
      "30813     attack.\n",
      "63256     attack.\n",
      "26911     attack.\n",
      "19071     attack.\n",
      "6098      attack.\n",
      "22364     attack.\n",
      "Name: label, Length: 13649, dtype: object\n"
     ]
    }
   ],
   "source": [
    "print(labels_test)"
   ]
  },
  {
   "cell_type": "code",
   "execution_count": 21,
   "metadata": {},
   "outputs": [],
   "source": [
    "labels_test = labels_test.to_numpy()\n",
    "for i in range(len(labels_test)):\n",
    "    if labels_test[i] == \"attack.\":\n",
    "        labels_test[i] = 2\n",
    "    elif labels_test[i] == \"normal.\":\n",
    "        labels_test[i] = 0"
   ]
  },
  {
   "cell_type": "code",
   "execution_count": 22,
   "metadata": {},
   "outputs": [
    {
     "name": "stdout",
     "output_type": "stream",
     "text": [
      "The total number of fraud packets in the testing dataset :  0\n",
      "The total number of normal packets in testing dataset :  13649\n"
     ]
    }
   ],
   "source": [
    "totalZero = 0\n",
    "totalTwo = 0\n",
    "for i in labels_test : \n",
    "    if i == 0 : \n",
    "        totalZero = totalZero + 1\n",
    "    elif i == 2 : \n",
    "        totalTwo = totalTwo + 1\n",
    "print(\"The total number of fraud packets in the testing dataset : \", totalZero)\n",
    "print(\"The total number of normal packets in testing dataset : \", totalTwo)"
   ]
  },
  {
   "cell_type": "code",
   "execution_count": 23,
   "metadata": {},
   "outputs": [
    {
     "name": "stdout",
     "output_type": "stream",
     "text": [
      "The total number of fraud packets in Predicted data :  12229\n",
      "The total number of normal packets in Predicted data :  1419\n"
     ]
    }
   ],
   "source": [
    "totalZeroPred = 0\n",
    "totalTwoPred = 0\n",
    "for i in pred : \n",
    "    if i == 0 : \n",
    "        totalZeroPred = totalZeroPred + 1\n",
    "    elif i == 2 : \n",
    "        totalTwoPred = totalTwoPred + 1\n",
    "print(\"The total number of fraud packets in Predicted data : \", totalZeroPred)\n",
    "print(\"The total number of normal packets in Predicted data : \", totalTwoPred)"
   ]
  },
  {
   "cell_type": "code",
   "execution_count": 24,
   "metadata": {},
   "outputs": [
    {
     "name": "stdout",
     "output_type": "stream",
     "text": [
      "The True Positive Rate for the predicted dataset is :  10.397127784290738\n"
     ]
    }
   ],
   "source": [
    "print(\"The True Positive Rate for the predicted dataset is : \", (totalTwoPred / (totalZeroPred + totalTwoPred)) * 100)"
   ]
  },
  {
   "cell_type": "code",
   "execution_count": 25,
   "metadata": {},
   "outputs": [
    {
     "name": "stdout",
     "output_type": "stream",
     "text": [
      "The True Negative Rate for the predicted dataset is :  89.60287221570925\n"
     ]
    }
   ],
   "source": [
    "print(\"The True Negative Rate for the predicted dataset is : \", (totalZeroPred / (totalZeroPred + totalTwoPred)) * 100)"
   ]
  },
  {
   "cell_type": "code",
   "execution_count": null,
   "metadata": {},
   "outputs": [],
   "source": []
  }
 ],
 "metadata": {
  "colab": {
   "collapsed_sections": [],
   "name": "hmmImplementationFinal.ipynb",
   "provenance": []
  },
  "kernelspec": {
   "display_name": "Python 3",
   "language": "python",
   "name": "python3"
  },
  "language_info": {
   "codemirror_mode": {
    "name": "ipython",
    "version": 3
   },
   "file_extension": ".py",
   "mimetype": "text/x-python",
   "name": "python",
   "nbconvert_exporter": "python",
   "pygments_lexer": "ipython3",
   "version": "3.7.3"
  }
 },
 "nbformat": 4,
 "nbformat_minor": 1
}
