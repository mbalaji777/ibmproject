{
 "cells": [
  {
   "cell_type": "code",
   "execution_count": 2,
   "metadata": {
    "scrolled": true
   },
   "outputs": [
    {
     "name": "stdout",
     "output_type": "stream",
     "text": [
      "Testing with full data\n"
     ]
    },
    {
     "name": "stderr",
     "output_type": "stream",
     "text": [
      "C:\\Users\\adity\\Anaconda3\\lib\\site-packages\\sklearn\\linear_model\\logistic.py:432: FutureWarning: Default solver will be changed to 'lbfgs' in 0.22. Specify a solver to silence this warning.\n",
      "  FutureWarning)\n"
     ]
    },
    {
     "name": "stdout",
     "output_type": "stream",
     "text": [
      "              precision    recall  f1-score   support\n",
      "\n",
      "         dos       1.00      1.00      1.00     97808\n",
      "      normal       1.00      1.00      1.00     24376\n",
      "\n",
      "    accuracy                           1.00    122184\n",
      "   macro avg       1.00      1.00      1.00    122184\n",
      "weighted avg       1.00      1.00      1.00    122184\n",
      "\n",
      "TN - True Negative 97794\n",
      "FP - False Positive 24\n",
      "FN - False Negative 14\n",
      "TP - True Positive 24352\n",
      "Accuracy Rate: 0.9996889936489229\n",
      "Misclassification Rate: 0.0003110063510770641\n"
     ]
    },
    {
     "data": {
      "image/png": "[encoded data removed]",
      "text/plain": [
       "<Figure size 432x288 with 2 Axes>"
      ]
     },
     "metadata": {
      "needs_background": "light"
     },
     "output_type": "display_data"
    }
   ],
   "source": [
    "import time\n",
    "import pandas as pd\n",
    "from sklearn.model_selection import train_test_split\n",
    "from sklearn.preprocessing import StandardScaler \n",
    "from sklearn.linear_model import LogisticRegression \n",
    "from sklearn import metrics\n",
    "import numpy as np\n",
    "import seaborn as sns\n",
    "%matplotlib inline\n",
    "\n",
    "def get_features(data):\n",
    "\tfeatures = []\n",
    "\tfor key in data.keys():\n",
    "\t\tfeatures.append(key)\n",
    "\tfeatures.remove(\"label\")\n",
    "\treturn features\n",
    "\n",
    "def with_full_features(data):\n",
    "    print(\"Testing with full data\")\n",
    "    \n",
    "    features = get_features(data)\n",
    "    X = data[features]\n",
    "    y = data[\"label\"]\n",
    "    \n",
    "    X_train, X_test, y_train, y_test = train_test_split(X,y,random_state=0)\n",
    "    \n",
    "    sc_x = StandardScaler() \n",
    "    X_train = sc_x.fit_transform(X_train)  \n",
    "    X_test = sc_x.transform(X_test) \n",
    "    \n",
    "    classifier = LogisticRegression(random_state = 0) \n",
    "    classifier.fit(X_train, y_train) \n",
    "    \n",
    "    y_pred = classifier.predict(X_test) \n",
    "    \n",
    "#     knn = KNeighborsClassifier(n_neighbors = 5)\n",
    "    \n",
    "   # start = time.time() \n",
    "#     knn.fit(X_train,y_train)\n",
    "    \n",
    "   # print(\"[+] Classifier trained in \" + str(time.time() - start) )\n",
    "    \n",
    "   # start = time.time()\n",
    "   # score = knn.score(X_test,y_test)\n",
    "    \n",
    "    #y_pred = knn.predict(X_test)\n",
    "    cm_train = metrics.classification_report(y_pred , y_test)\n",
    "    print(cm_train)\n",
    "\n",
    "   # print(\"[+] Model Evaluated in \" + str(time.time()-start) )\n",
    "    #print(\"[!] Test score is \"  + str(score) )\n",
    "    #print( \"-------------------------------------------------\")\n",
    "    \n",
    "    cmat = metrics.confusion_matrix(y_test, y_pred)\n",
    "    group_names = ['True Neg','False Pos','False Neg','True Pos']\n",
    "    group_counts = [\"{0:0.0f}\".format(value) for value in\n",
    "                    cmat.flatten()]\n",
    "    group_percentages = [\"{0:.2%}\".format(value) for value in\n",
    "                         cmat.flatten()/np.sum(cmat)]\n",
    "    labels = [f\"{v1}\\n{v2}\\n{v3}\" for v1, v2, v3 in\n",
    "              zip(group_names,group_counts,group_percentages)]\n",
    "    labels = np.asarray(labels).reshape(2,2)\n",
    "    sns.heatmap(cmat, annot=labels, fmt='', cmap='Blues')\n",
    "    \n",
    "    print('TN - True Negative {}'.format(cmat[0,0]))\n",
    "    print('FP - False Positive {}'.format(cmat[0,1]))\n",
    "    print('FN - False Negative {}'.format(cmat[1,0]))\n",
    "    print('TP - True Positive {}'.format(cmat[1,1]))\n",
    "    print('Accuracy Rate: {}'.format(np.divide(np.sum([cmat[0,0],cmat[1,1]]),np.sum(cmat))))\n",
    "    print('Misclassification Rate: {}'.format(np.divide(np.sum([cmat[0,1],cmat[1,0]]),np.sum(cmat))))\n",
    "\n",
    "\n",
    "def main():\n",
    "\tfilename=\"preprocessed_kddcup_data\"\n",
    "\tdata = pd.read_csv(filename)\n",
    "\n",
    "\twith_full_features(data)\n",
    "\n",
    "\n",
    "main()"
   ]
  },
  {
   "cell_type": "code",
   "execution_count": null,
   "metadata": {},
   "outputs": [],
   "source": []
  }
 ],
 "metadata": {
  "kernelspec": {
   "display_name": "Python 3",
   "language": "python",
   "name": "python3"
  },
  "language_info": {
   "codemirror_mode": {
    "name": "ipython",
    "version": 3
   },
   "file_extension": ".py",
   "mimetype": "text/x-python",
   "name": "python",
   "nbconvert_exporter": "python",
   "pygments_lexer": "ipython3",
   "version": "3.7.3"
  }
 },
 "nbformat": 4,
 "nbformat_minor": 2
}
