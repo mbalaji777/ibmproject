{
 "cells": [
  {
   "cell_type": "code",
   "execution_count": 1,
   "metadata": {
    "colab": {
     "base_uri": "https://localhost:8080/",
     "height": 423
    },
    "colab_type": "code",
    "id": "lVzfCrYt-t7g",
    "outputId": "8a57b53b-dd47-495d-dfb4-52e3184bd55b"
   },
   "outputs": [],
   "source": [
    "import pandas as pd\n",
    "from time import time\n",
    "col_names = [\"duration\",\"protocol_type\",\"service\",\"flag\",\"src_bytes\",\n",
    "    \"dst_bytes\",\"land\",\"wrong_fragment\",\"urgent\",\"hot\",\"num_failed_logins\",\n",
    "    \"logged_in\",\"num_compromised\",\"root_shell\",\"su_attempted\",\"num_root\",\n",
    "    \"num_file_creations\",\"num_shells\",\"num_access_files\",\"num_outbound_cmds\",\n",
    "    \"is_host_login\",\"is_guest_login\",\"count\",\"srv_count\",\"serror_rate\",\n",
    "    \"srv_serror_rate\",\"rerror_rate\",\"srv_rerror_rate\",\"same_srv_rate\",\n",
    "    \"diff_srv_rate\",\"srv_diff_host_rate\",\"dst_host_count\",\"dst_host_srv_count\",\n",
    "    \"dst_host_same_srv_rate\",\"dst_host_diff_srv_rate\",\"dst_host_same_src_port_rate\",\n",
    "    \"dst_host_srv_diff_host_rate\",\"dst_host_serror_rate\",\"dst_host_srv_serror_rate\",\n",
    "    \"dst_host_rerror_rate\",\"dst_host_srv_rerror_rate\",\"label\"]\n",
    "data01_ten_percent = pd.read_csv(\"preprocessed_kddcup_data\")"
   ]
  },
  {
   "cell_type": "code",
   "execution_count": 2,
   "metadata": {
    "colab": {
     "base_uri": "https://localhost:8080/",
     "height": 167
    },
    "colab_type": "code",
    "id": "BBqf_tai_G1e",
    "outputId": "777977b3-a382-4ed5-dbe9-0e7956119e12"
   },
   "outputs": [
    {
     "data": {
      "text/plain": [
       "dos       391458\n",
       "normal     97278\n",
       "Name: label, dtype: int64"
      ]
     },
     "execution_count": 2,
     "metadata": {},
     "output_type": "execute_result"
    }
   ],
   "source": [
    "data01_ten_percent['label'].value_counts()"
   ]
  },
  {
   "cell_type": "code",
   "execution_count": 3,
   "metadata": {
    "colab": {},
    "colab_type": "code",
    "id": "cxZQHaSN_OgH"
   },
   "outputs": [],
   "source": [
    "num_features = [\n",
    "    \"duration\",\"src_bytes\",\n",
    "    \"dst_bytes\",\"land\",\"wrong_fragment\",\"urgent\",\"hot\",\"num_failed_logins\",\n",
    "    \"logged_in\",\"num_compromised\",\"root_shell\",\"su_attempted\",\"num_root\",\n",
    "    \"num_file_creations\",\"num_shells\",\"num_access_files\",\"num_outbound_cmds\",\n",
    "    \"is_host_login\",\"is_guest_login\",\"count\",\"srv_count\",\"serror_rate\",\n",
    "    \"srv_serror_rate\",\"rerror_rate\",\"srv_rerror_rate\",\"same_srv_rate\",\n",
    "    \"diff_srv_rate\",\"srv_diff_host_rate\",\"dst_host_count\",\"dst_host_srv_count\",\n",
    "    \"dst_host_same_srv_rate\",\"dst_host_diff_srv_rate\",\"dst_host_same_src_port_rate\",\n",
    "    \"dst_host_srv_diff_host_rate\",\"dst_host_serror_rate\",\"dst_host_srv_serror_rate\",\n",
    "    \"dst_host_rerror_rate\",\"dst_host_srv_rerror_rate\"\n",
    "]\n",
    "features = data01_ten_percent[num_features].astype(float)"
   ]
  },
  {
   "cell_type": "code",
   "execution_count": 4,
   "metadata": {
    "colab": {
     "base_uri": "https://localhost:8080/",
     "height": 363
    },
    "colab_type": "code",
    "id": "SfiSjJNf_Y-1",
    "outputId": "78dc0d40-2988-4ed1-8e15-1681ebfe2f6f"
   },
   "outputs": [
    {
     "data": {
      "text/plain": [
       "attack    391458\n",
       "normal     97278\n",
       "Name: label, dtype: int64"
      ]
     },
     "execution_count": 4,
     "metadata": {},
     "output_type": "execute_result"
    }
   ],
   "source": [
    "from hmmlearn import hmm\n",
    "labels = data01_ten_percent['label'].copy()\n",
    "labels[labels!='normal'] = 'attack'\n",
    "labels.value_counts()"
   ]
  },
  {
   "cell_type": "code",
   "execution_count": 5,
   "metadata": {
    "colab": {
     "base_uri": "https://localhost:8080/",
     "height": 167
    },
    "colab_type": "code",
    "id": "nepDtRpj_pbv",
    "outputId": "92a86203-7e71-4cd2-9203-3d821acfc17f"
   },
   "outputs": [],
   "source": [
    "hmmClassifier = hmm.GaussianHMM(n_components=3, covariance_type=\"full\", n_iter=100)"
   ]
  },
  {
   "cell_type": "code",
   "execution_count": 6,
   "metadata": {
    "colab": {},
    "colab_type": "code",
    "id": "G8Nt6Mke_0dY"
   },
   "outputs": [
    {
     "data": {
      "text/plain": [
       "GaussianHMM(algorithm='viterbi', covariance_type='full', covars_prior=0.01,\n",
       "            covars_weight=1, init_params='stmc', means_prior=0, means_weight=0,\n",
       "            min_covar=0.001, n_components=3, n_iter=100, params='stmc',\n",
       "            random_state=None, startprob_prior=1.0, tol=0.01,\n",
       "            transmat_prior=1.0, verbose=False)"
      ]
     },
     "execution_count": 6,
     "metadata": {},
     "output_type": "execute_result"
    }
   ],
   "source": [
    "hmmClassifier.fit(features)"
   ]
  },
  {
   "cell_type": "code",
   "execution_count": 7,
   "metadata": {
    "colab": {
     "base_uri": "https://localhost:8080/",
     "height": 405
    },
    "colab_type": "code",
    "id": "u64CMmmc_7SP",
    "outputId": "7998ddbb-2d33-4708-9fd2-aba047a89b3b"
   },
   "outputs": [
    {
     "data": {
      "text/plain": [
       "smurf.              164091\n",
       "normal.              60593\n",
       "neptune.             58001\n",
       "snmpgetattack.        7741\n",
       "mailbomb.             5000\n",
       "guess_passwd.         4367\n",
       "snmpguess.            2406\n",
       "satan.                1633\n",
       "warezmaster.          1602\n",
       "back.                 1098\n",
       "mscan.                1053\n",
       "apache2.               794\n",
       "processtable.          759\n",
       "saint.                 736\n",
       "portsweep.             354\n",
       "ipsweep.               306\n",
       "httptunnel.            158\n",
       "pod.                    87\n",
       "nmap.                   84\n",
       "buffer_overflow.        22\n",
       "multihop.               18\n",
       "named.                  17\n",
       "sendmail.               17\n",
       "ps.                     16\n",
       "rootkit.                13\n",
       "xterm.                  13\n",
       "teardrop.               12\n",
       "xlock.                   9\n",
       "land.                    9\n",
       "xsnoop.                  4\n",
       "ftp_write.               3\n",
       "sqlattack.               2\n",
       "phf.                     2\n",
       "worm.                    2\n",
       "perl.                    2\n",
       "loadmodule.              2\n",
       "udpstorm.                2\n",
       "imap.                    1\n",
       "Name: label, dtype: int64"
      ]
     },
     "execution_count": 7,
     "metadata": {},
     "output_type": "execute_result"
    }
   ],
   "source": [
    "data01_corrected = pd.read_csv(\"corrected\", header = None, names = col_names)\n",
    "data01_corrected['label'].value_counts()"
   ]
  },
  {
   "cell_type": "code",
   "execution_count": 8,
   "metadata": {
    "colab": {
     "base_uri": "https://localhost:8080/",
     "height": 185
    },
    "colab_type": "code",
    "id": "e21NZlKxAwzv",
    "outputId": "d79190cd-2f83-48d5-aef8-0cec25b88877"
   },
   "outputs": [
    {
     "name": "stderr",
     "output_type": "stream",
     "text": [
      "C:\\Users\\adity\\Anaconda3\\lib\\site-packages\\ipykernel_launcher.py:1: SettingWithCopyWarning: \n",
      "A value is trying to be set on a copy of a slice from a DataFrame\n",
      "\n",
      "See the caveats in the documentation: http://pandas.pydata.org/pandas-docs/stable/indexing.html#indexing-view-versus-copy\n",
      "  \"\"\"Entry point for launching an IPython kernel.\n"
     ]
    },
    {
     "data": {
      "text/plain": [
       "attack.    250436\n",
       "normal.     60593\n",
       "Name: label, dtype: int64"
      ]
     },
     "execution_count": 8,
     "metadata": {},
     "output_type": "execute_result"
    }
   ],
   "source": [
    "data01_corrected['label'][data01_corrected['label']!= 'normal.'] = 'attack.'\n",
    "data01_corrected['label'].value_counts()\n",
    "#print(data01_corrected.columns)"
   ]
  },
  {
   "cell_type": "code",
   "execution_count": 9,
   "metadata": {
    "colab": {
     "base_uri": "https://localhost:8080/",
     "height": 185
    },
    "colab_type": "code",
    "id": "EfNpI9WXCPxE",
    "outputId": "9634c89d-b5b5-4220-f324-fe4eb71f64c4"
   },
   "outputs": [],
   "source": [
    "from sklearn.model_selection import train_test_split\n",
    "data01_corrected[num_features] = data01_corrected[num_features].astype(float)"
   ]
  },
  {
   "cell_type": "code",
   "execution_count": 10,
   "metadata": {
    "colab": {},
    "colab_type": "code",
    "id": "Rs94Enr0CjDf"
   },
   "outputs": [],
   "source": [
    "feature_train, feature_test, labels_train, labels_test = train_test_split(data01_corrected[num_features], data01_corrected['label'], test_size = 0.1, random_state = 42)"
   ]
  },
  {
   "cell_type": "code",
   "execution_count": 11,
   "metadata": {
    "colab": {},
    "colab_type": "code",
    "id": "leB9ASPSC3BG"
   },
   "outputs": [],
   "source": [
    "pred = hmmClassifier.predict(feature_test)"
   ]
  },
  {
   "cell_type": "code",
   "execution_count": 12,
   "metadata": {
    "colab": {},
    "colab_type": "code",
    "id": "HFcSQnxSHtrb"
   },
   "outputs": [
    {
     "name": "stdout",
     "output_type": "stream",
     "text": [
      "[0 0 0 ... 0 0 0]\n",
      "{0, 2}\n",
      "<class 'numpy.int32'>\n",
      "31103\n"
     ]
    }
   ],
   "source": [
    "print(pred)\n",
    "print(set(pred))\n",
    "print(type(pred[0]))\n",
    "print(len(pred))"
   ]
  },
  {
   "cell_type": "code",
   "execution_count": 13,
   "metadata": {},
   "outputs": [
    {
     "name": "stdout",
     "output_type": "stream",
     "text": [
      "{'normal.', 'attack.'}\n",
      "31103\n"
     ]
    }
   ],
   "source": [
    "type(labels_test)\n",
    "print(set(labels_test))\n",
    "print(len(labels_test))"
   ]
  },
  {
   "cell_type": "code",
   "execution_count": 14,
   "metadata": {
    "scrolled": true
   },
   "outputs": [
    {
     "name": "stdout",
     "output_type": "stream",
     "text": [
      "220755    attack.\n",
      "158047    attack.\n",
      "25478     attack.\n",
      "99780     normal.\n",
      "71382     attack.\n",
      "98481     normal.\n",
      "212000    normal.\n",
      "113616    attack.\n",
      "147946    normal.\n",
      "34016     attack.\n",
      "235034    attack.\n",
      "263966    attack.\n",
      "177492    attack.\n",
      "220302    attack.\n",
      "264147    attack.\n",
      "284136    normal.\n",
      "14377     attack.\n",
      "308291    attack.\n",
      "133340    normal.\n",
      "104772    attack.\n",
      "250310    attack.\n",
      "165252    attack.\n",
      "91550     normal.\n",
      "103447    attack.\n",
      "292669    attack.\n",
      "181482    attack.\n",
      "159891    attack.\n",
      "251812    attack.\n",
      "287636    normal.\n",
      "267725    attack.\n",
      "           ...   \n",
      "36858     normal.\n",
      "260112    attack.\n",
      "25488     attack.\n",
      "200740    attack.\n",
      "44450     attack.\n",
      "290233    normal.\n",
      "268573    attack.\n",
      "297170    attack.\n",
      "22060     attack.\n",
      "205090    attack.\n",
      "295193    attack.\n",
      "100568    normal.\n",
      "198193    attack.\n",
      "129963    attack.\n",
      "209011    attack.\n",
      "204032    attack.\n",
      "101366    attack.\n",
      "37194     normal.\n",
      "229378    attack.\n",
      "296294    attack.\n",
      "216924    attack.\n",
      "121157    attack.\n",
      "138680    normal.\n",
      "214061    normal.\n",
      "118743    attack.\n",
      "11298     attack.\n",
      "80850     normal.\n",
      "170793    attack.\n",
      "278032    attack.\n",
      "277089    attack.\n",
      "Name: label, Length: 31103, dtype: object\n"
     ]
    }
   ],
   "source": [
    "print(labels_test)"
   ]
  },
  {
   "cell_type": "code",
   "execution_count": 15,
   "metadata": {},
   "outputs": [],
   "source": [
    "labels_test = labels_test.to_numpy()\n",
    "for i in range(len(labels_test)):\n",
    "    if labels_test[i] == \"attack.\":\n",
    "        labels_test[i] = 2\n",
    "    elif labels_test[i] == \"normal.\":\n",
    "        labels_test[i] = 0"
   ]
  },
  {
   "cell_type": "code",
   "execution_count": 16,
   "metadata": {},
   "outputs": [
    {
     "name": "stdout",
     "output_type": "stream",
     "text": [
      "The total number of fraud packets in the testing dataset :  6061\n",
      "The total number of normal packets in testing dataset :  25042\n"
     ]
    }
   ],
   "source": [
    "totalZero = 0\n",
    "totalTwo = 0\n",
    "for i in labels_test : \n",
    "    if i == 0 : \n",
    "        totalZero = totalZero + 1\n",
    "    elif i == 2 : \n",
    "        totalTwo = totalTwo + 1\n",
    "print(\"The total number of fraud packets in the testing dataset : \", totalZero)\n",
    "print(\"The total number of normal packets in testing dataset : \", totalTwo)"
   ]
  },
  {
   "cell_type": "code",
   "execution_count": 17,
   "metadata": {},
   "outputs": [
    {
     "name": "stdout",
     "output_type": "stream",
     "text": [
      "The total number of fraud packets in Predicted data :  28650\n",
      "The total number of normal packets in Predicted data :  2453\n"
     ]
    }
   ],
   "source": [
    "totalZeroPred = 0\n",
    "totalTwoPred = 0\n",
    "for i in pred : \n",
    "    if i == 0 : \n",
    "        totalZeroPred = totalZeroPred + 1\n",
    "    elif i == 2 : \n",
    "        totalTwoPred = totalTwoPred + 1\n",
    "print(\"The total number of fraud packets in Predicted data : \", totalZeroPred)\n",
    "print(\"The total number of normal packets in Predicted data : \", totalTwoPred)"
   ]
  },
  {
   "cell_type": "code",
   "execution_count": 18,
   "metadata": {},
   "outputs": [
    {
     "name": "stdout",
     "output_type": "stream",
     "text": [
      "The True Positive Rate for the predicted dataset is :  7.8866990322476935\n"
     ]
    }
   ],
   "source": [
    "print(\"The True Positive Rate for the predicted dataset is : \", (totalTwoPred / (totalZeroPred + totalTwoPred)) * 100)"
   ]
  },
  {
   "cell_type": "code",
   "execution_count": 19,
   "metadata": {},
   "outputs": [
    {
     "name": "stdout",
     "output_type": "stream",
     "text": [
      "The True Negative Rate for the predicted dataset is :  92.11330096775231\n"
     ]
    }
   ],
   "source": [
    "print(\"The True Negative Rate for the predicted dataset is : \", (totalZeroPred / (totalZeroPred + totalTwoPred)) * 100)"
   ]
  }
 ],
 "metadata": {
  "colab": {
   "collapsed_sections": [],
   "name": "hmmImplementationFinal.ipynb",
   "provenance": []
  },
  "kernelspec": {
   "display_name": "Python 3",
   "language": "python",
   "name": "python3"
  },
  "language_info": {
   "codemirror_mode": {
    "name": "ipython",
    "version": 3
   },
   "file_extension": ".py",
   "mimetype": "text/x-python",
   "name": "python",
   "nbconvert_exporter": "python",
   "pygments_lexer": "ipython3",
   "version": "3.7.3"
  }
 },
 "nbformat": 4,
 "nbformat_minor": 1
}
