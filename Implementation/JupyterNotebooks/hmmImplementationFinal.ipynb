{
 "cells": [
  {
   "cell_type": "code",
   "execution_count": 1,
   "metadata": {
    "colab": {
     "base_uri": "https://localhost:8080/",
     "height": 423
    },
    "colab_type": "code",
    "id": "lVzfCrYt-t7g",
    "outputId": "8a57b53b-dd47-495d-dfb4-52e3184bd55b"
   },
   "outputs": [],
   "source": [
    "import pandas as pd\n",
    "from time import time\n",
    "col_names = [\"duration\",\"protocol_type\",\"service\",\"flag\",\"src_bytes\",\n",
    "    \"dst_bytes\",\"land\",\"wrong_fragment\",\"urgent\",\"hot\",\"num_failed_logins\",\n",
    "    \"logged_in\",\"num_compromised\",\"root_shell\",\"su_attempted\",\"num_root\",\n",
    "    \"num_file_creations\",\"num_shells\",\"num_access_files\",\"num_outbound_cmds\",\n",
    "    \"is_host_login\",\"is_guest_login\",\"count\",\"srv_count\",\"serror_rate\",\n",
    "    \"srv_serror_rate\",\"rerror_rate\",\"srv_rerror_rate\",\"same_srv_rate\",\n",
    "    \"diff_srv_rate\",\"srv_diff_host_rate\",\"dst_host_count\",\"dst_host_srv_count\",\n",
    "    \"dst_host_same_srv_rate\",\"dst_host_diff_srv_rate\",\"dst_host_same_src_port_rate\",\n",
    "    \"dst_host_srv_diff_host_rate\",\"dst_host_serror_rate\",\"dst_host_srv_serror_rate\",\n",
    "    \"dst_host_rerror_rate\",\"dst_host_srv_rerror_rate\",\"label\"]\n",
    "data01_ten_percent = pd.read_csv(\"kddcup_data_10_percent\", header = None, names = col_names)"
   ]
  },
  {
   "cell_type": "code",
   "execution_count": 2,
   "metadata": {
    "colab": {
     "base_uri": "https://localhost:8080/",
     "height": 167
    },
    "colab_type": "code",
    "id": "BBqf_tai_G1e",
    "outputId": "777977b3-a382-4ed5-dbe9-0e7956119e12"
   },
   "outputs": [
    {
     "data": {
      "text/plain": [
       "smurf.              280790\n",
       "neptune.            107201\n",
       "normal.              97278\n",
       "back.                 2203\n",
       "satan.                1589\n",
       "ipsweep.              1247\n",
       "portsweep.            1040\n",
       "warezclient.          1020\n",
       "teardrop.              979\n",
       "pod.                   264\n",
       "nmap.                  231\n",
       "guess_passwd.           53\n",
       "buffer_overflow.        30\n",
       "land.                   21\n",
       "warezmaster.            20\n",
       "imap.                   12\n",
       "rootkit.                10\n",
       "loadmodule.              9\n",
       "ftp_write.               8\n",
       "multihop.                7\n",
       "phf.                     4\n",
       "perl.                    3\n",
       "spy.                     2\n",
       "Name: label, dtype: int64"
      ]
     },
     "execution_count": 2,
     "metadata": {},
     "output_type": "execute_result"
    }
   ],
   "source": [
    "data01_ten_percent['label'].value_counts()"
   ]
  },
  {
   "cell_type": "code",
   "execution_count": 3,
   "metadata": {
    "colab": {},
    "colab_type": "code",
    "id": "cxZQHaSN_OgH"
   },
   "outputs": [],
   "source": [
    "num_features = [\n",
    "    \"duration\",\"src_bytes\",\n",
    "    \"dst_bytes\",\"land\",\"wrong_fragment\",\"urgent\",\"hot\",\"num_failed_logins\",\n",
    "    \"logged_in\",\"num_compromised\",\"root_shell\",\"su_attempted\",\"num_root\",\n",
    "    \"num_file_creations\",\"num_shells\",\"num_access_files\",\"num_outbound_cmds\",\n",
    "    \"is_host_login\",\"is_guest_login\",\"count\",\"srv_count\",\"serror_rate\",\n",
    "    \"srv_serror_rate\",\"rerror_rate\",\"srv_rerror_rate\",\"same_srv_rate\",\n",
    "    \"diff_srv_rate\",\"srv_diff_host_rate\",\"dst_host_count\",\"dst_host_srv_count\",\n",
    "    \"dst_host_same_srv_rate\",\"dst_host_diff_srv_rate\",\"dst_host_same_src_port_rate\",\n",
    "    \"dst_host_srv_diff_host_rate\",\"dst_host_serror_rate\",\"dst_host_srv_serror_rate\",\n",
    "    \"dst_host_rerror_rate\",\"dst_host_srv_rerror_rate\"\n",
    "]\n",
    "features = data01_ten_percent[num_features].astype(float)"
   ]
  },
  {
   "cell_type": "code",
   "execution_count": 4,
   "metadata": {
    "colab": {
     "base_uri": "https://localhost:8080/",
     "height": 363
    },
    "colab_type": "code",
    "id": "SfiSjJNf_Y-1",
    "outputId": "78dc0d40-2988-4ed1-8e15-1681ebfe2f6f"
   },
   "outputs": [
    {
     "data": {
      "text/plain": [
       "attack.    396743\n",
       "normal.     97278\n",
       "Name: label, dtype: int64"
      ]
     },
     "execution_count": 4,
     "metadata": {},
     "output_type": "execute_result"
    }
   ],
   "source": [
    "from hmmlearn import hmm\n",
    "labels = data01_ten_percent['label'].copy()\n",
    "labels[labels!='normal.'] = 'attack.'\n",
    "labels.value_counts()"
   ]
  },
  {
   "cell_type": "code",
   "execution_count": 5,
   "metadata": {
    "colab": {
     "base_uri": "https://localhost:8080/",
     "height": 167
    },
    "colab_type": "code",
    "id": "nepDtRpj_pbv",
    "outputId": "92a86203-7e71-4cd2-9203-3d821acfc17f"
   },
   "outputs": [],
   "source": [
    "hmmClassifier = hmm.GaussianHMM(n_components=3, covariance_type=\"full\", n_iter=100)"
   ]
  },
  {
   "cell_type": "code",
   "execution_count": 6,
   "metadata": {
    "colab": {},
    "colab_type": "code",
    "id": "G8Nt6Mke_0dY"
   },
   "outputs": [
    {
     "data": {
      "text/plain": [
       "GaussianHMM(algorithm='viterbi', covariance_type='full', covars_prior=0.01,\n",
       "            covars_weight=1, init_params='stmc', means_prior=0, means_weight=0,\n",
       "            min_covar=0.001, n_components=3, n_iter=100, params='stmc',\n",
       "            random_state=None, startprob_prior=1.0, tol=0.01,\n",
       "            transmat_prior=1.0, verbose=False)"
      ]
     },
     "execution_count": 6,
     "metadata": {},
     "output_type": "execute_result"
    }
   ],
   "source": [
    "hmmClassifier.fit(features)"
   ]
  },
  {
   "cell_type": "code",
   "execution_count": 7,
   "metadata": {
    "colab": {
     "base_uri": "https://localhost:8080/",
     "height": 405
    },
    "colab_type": "code",
    "id": "u64CMmmc_7SP",
    "outputId": "7998ddbb-2d33-4708-9fd2-aba047a89b3b"
   },
   "outputs": [
    {
     "data": {
      "text/plain": [
       "smurf.              164091\n",
       "normal.              60593\n",
       "neptune.             58001\n",
       "snmpgetattack.        7741\n",
       "mailbomb.             5000\n",
       "guess_passwd.         4367\n",
       "snmpguess.            2406\n",
       "satan.                1633\n",
       "warezmaster.          1602\n",
       "back.                 1098\n",
       "mscan.                1053\n",
       "apache2.               794\n",
       "processtable.          759\n",
       "saint.                 736\n",
       "portsweep.             354\n",
       "ipsweep.               306\n",
       "httptunnel.            158\n",
       "pod.                    87\n",
       "nmap.                   84\n",
       "buffer_overflow.        22\n",
       "multihop.               18\n",
       "sendmail.               17\n",
       "named.                  17\n",
       "ps.                     16\n",
       "xterm.                  13\n",
       "rootkit.                13\n",
       "teardrop.               12\n",
       "xlock.                   9\n",
       "land.                    9\n",
       "xsnoop.                  4\n",
       "ftp_write.               3\n",
       "sqlattack.               2\n",
       "worm.                    2\n",
       "udpstorm.                2\n",
       "perl.                    2\n",
       "loadmodule.              2\n",
       "phf.                     2\n",
       "imap.                    1\n",
       "Name: label, dtype: int64"
      ]
     },
     "execution_count": 7,
     "metadata": {},
     "output_type": "execute_result"
    }
   ],
   "source": [
    "data01_corrected = pd.read_csv(\"corrected\", header = None, names = col_names)\n",
    "data01_corrected['label'].value_counts()"
   ]
  },
  {
   "cell_type": "code",
   "execution_count": 8,
   "metadata": {
    "colab": {
     "base_uri": "https://localhost:8080/",
     "height": 185
    },
    "colab_type": "code",
    "id": "e21NZlKxAwzv",
    "outputId": "d79190cd-2f83-48d5-aef8-0cec25b88877"
   },
   "outputs": [
    {
     "name": "stderr",
     "output_type": "stream",
     "text": [
      "C:\\Users\\mbala\\anaconda3\\lib\\site-packages\\ipykernel_launcher.py:1: SettingWithCopyWarning: \n",
      "A value is trying to be set on a copy of a slice from a DataFrame\n",
      "\n",
      "See the caveats in the documentation: https://pandas.pydata.org/pandas-docs/stable/user_guide/indexing.html#returning-a-view-versus-a-copy\n",
      "  \"\"\"Entry point for launching an IPython kernel.\n"
     ]
    },
    {
     "data": {
      "text/plain": [
       "attack.    250436\n",
       "normal.     60593\n",
       "Name: label, dtype: int64"
      ]
     },
     "execution_count": 8,
     "metadata": {},
     "output_type": "execute_result"
    }
   ],
   "source": [
    "data01_corrected['label'][data01_corrected['label']!= 'normal.'] = 'attack.'\n",
    "data01_corrected['label'].value_counts()\n",
    "#print(data01_corrected.columns)"
   ]
  },
  {
   "cell_type": "code",
   "execution_count": 9,
   "metadata": {
    "colab": {
     "base_uri": "https://localhost:8080/",
     "height": 105
    },
    "colab_type": "code",
    "id": "33T6lGHcCBpd",
    "outputId": "f1d8fe36-5962-474f-e2b1-c97e05d79d0b"
   },
   "outputs": [
    {
     "name": "stdout",
     "output_type": "stream",
     "text": [
      "Requirement already satisfied: sklearn in c:\\users\\mbala\\anaconda3\\lib\\site-packages (0.0)\n",
      "Requirement already satisfied: scikit-learn in c:\\users\\mbala\\anaconda3\\lib\\site-packages (from sklearn) (0.22.1)\n",
      "Requirement already satisfied: numpy>=1.11.0 in c:\\users\\mbala\\anaconda3\\lib\\site-packages (from scikit-learn->sklearn) (1.18.1)\n",
      "Requirement already satisfied: scipy>=0.17.0 in c:\\users\\mbala\\anaconda3\\lib\\site-packages (from scikit-learn->sklearn) (1.4.1)\n",
      "Requirement already satisfied: joblib>=0.11 in c:\\users\\mbala\\anaconda3\\lib\\site-packages (from scikit-learn->sklearn) (0.14.1)\n"
     ]
    }
   ],
   "source": [
    "!pip install sklearn\n"
   ]
  },
  {
   "cell_type": "code",
   "execution_count": 10,
   "metadata": {
    "colab": {
     "base_uri": "https://localhost:8080/",
     "height": 185
    },
    "colab_type": "code",
    "id": "EfNpI9WXCPxE",
    "outputId": "9634c89d-b5b5-4220-f324-fe4eb71f64c4"
   },
   "outputs": [],
   "source": [
    "from sklearn.model_selection import train_test_split\n",
    "data01_corrected[num_features] = data01_corrected[num_features].astype(float)"
   ]
  },
  {
   "cell_type": "code",
   "execution_count": 45,
   "metadata": {
    "colab": {},
    "colab_type": "code",
    "id": "Rs94Enr0CjDf"
   },
   "outputs": [],
   "source": [
    "feature_train, feature_test, labels_train, labels_test = train_test_split(data01_corrected[num_features], data01_corrected['label'], test_size = 0.1, random_state = 42)"
   ]
  },
  {
   "cell_type": "code",
   "execution_count": 46,
   "metadata": {
    "colab": {},
    "colab_type": "code",
    "id": "leB9ASPSC3BG"
   },
   "outputs": [],
   "source": [
    "pred = hmmClassifier.predict(feature_test)"
   ]
  },
  {
   "cell_type": "code",
   "execution_count": 47,
   "metadata": {
    "colab": {},
    "colab_type": "code",
    "id": "HFcSQnxSHtrb"
   },
   "outputs": [
    {
     "name": "stdout",
     "output_type": "stream",
     "text": [
      "[0 0 0 ... 0 0 0]\n",
      "{0, 2}\n",
      "<class 'numpy.int32'>\n",
      "31103\n"
     ]
    }
   ],
   "source": [
    "print(pred)\n",
    "print(set(pred))\n",
    "print(type(pred[0]))\n",
    "print(len(pred))"
   ]
  },
  {
   "cell_type": "code",
   "execution_count": 48,
   "metadata": {},
   "outputs": [
    {
     "name": "stdout",
     "output_type": "stream",
     "text": [
      "{'attack.', 'normal.'}\n",
      "31103\n"
     ]
    }
   ],
   "source": [
    "type(labels_test)\n",
    "print(set(labels_test))\n",
    "print(len(labels_test))"
   ]
  },
  {
   "cell_type": "code",
   "execution_count": 49,
   "metadata": {},
   "outputs": [
    {
     "name": "stdout",
     "output_type": "stream",
     "text": [
      "220755    attack.\n",
      "158047    attack.\n",
      "25478     attack.\n",
      "99780     normal.\n",
      "71382     attack.\n",
      "           ...   \n",
      "11298     attack.\n",
      "80850     normal.\n",
      "170793    attack.\n",
      "278032    attack.\n",
      "277089    attack.\n",
      "Name: label, Length: 31103, dtype: object\n"
     ]
    }
   ],
   "source": [
    "print(labels_test)"
   ]
  },
  {
   "cell_type": "code",
   "execution_count": 50,
   "metadata": {},
   "outputs": [],
   "source": [
    "labels_test = labels_test.to_numpy()\n",
    "for i in range(len(labels_test)):\n",
    "    if labels_test[i] == \"attack.\":\n",
    "        labels_test[i] = 2\n",
    "    elif labels_test[i] == \"normal.\":\n",
    "        labels_test[i] = 0"
   ]
  },
  {
   "cell_type": "code",
   "execution_count": 53,
   "metadata": {},
   "outputs": [
    {
     "name": "stdout",
     "output_type": "stream",
     "text": [
      "The total number of fraud packets in the testing dataset :  6061\n",
      "The total number of normal packets in testing dataset :  25042\n"
     ]
    }
   ],
   "source": [
    "totalZero = 0\n",
    "totalTwo = 0\n",
    "for i in labels_test : \n",
    "    if i == 0 : \n",
    "        totalZero = totalZero + 1\n",
    "    elif i == 2 : \n",
    "        totalTwo = totalTwo + 1\n",
    "print(\"The total number of fraud packets in the testing dataset : \", totalZero)\n",
    "print(\"The total number of normal packets in testing dataset : \", totalTwo)"
   ]
  },
  {
   "cell_type": "code",
   "execution_count": 54,
   "metadata": {},
   "outputs": [
    {
     "name": "stdout",
     "output_type": "stream",
     "text": [
      "The total number of fraud packets in Predicted data :  29489\n",
      "The total number of normal packets in Predicted data :  1614\n"
     ]
    }
   ],
   "source": [
    "totalZeroPred = 0\n",
    "totalTwoPred = 0\n",
    "for i in pred : \n",
    "    if i == 0 : \n",
    "        totalZeroPred = totalZeroPred + 1\n",
    "    elif i == 2 : \n",
    "        totalTwoPred = totalTwoPred + 1\n",
    "print(\"The total number of fraud packets in Predicted data : \", totalZeroPred)\n",
    "print(\"The total number of normal packets in Predicted data : \", totalTwoPred)"
   ]
  },
  {
   "cell_type": "code",
   "execution_count": 55,
   "metadata": {},
   "outputs": [
    {
     "name": "stdout",
     "output_type": "stream",
     "text": [
      "The True Positive Rate for the predicted dataset is :  5.189210044047198\n"
     ]
    }
   ],
   "source": [
    "print(\"The True Positive Rate for the predicted dataset is : \", (totalTwoPred / (totalZeroPred + totalTwoPred)) * 100)"
   ]
  },
  {
   "cell_type": "code",
   "execution_count": 56,
   "metadata": {},
   "outputs": [
    {
     "name": "stdout",
     "output_type": "stream",
     "text": [
      "The True Negative Rate for the predicted dataset is :  94.8107899559528\n"
     ]
    }
   ],
   "source": [
    "print(\"The True Negative Rate for the predicted dataset is : \", (totalZeroPred / (totalZeroPred + totalTwoPred)) * 100)"
   ]
  }
 ],
 "metadata": {
  "colab": {
   "collapsed_sections": [],
   "name": "hmmImplementationFinal.ipynb",
   "provenance": []
  },
  "kernelspec": {
   "display_name": "Python 3",
   "language": "python",
   "name": "python3"
  },
  "language_info": {
   "codemirror_mode": {
    "name": "ipython",
    "version": 3
   },
   "file_extension": ".py",
   "mimetype": "text/x-python",
   "name": "python",
   "nbconvert_exporter": "python",
   "pygments_lexer": "ipython3",
   "version": "3.7.6"
  }
 },
 "nbformat": 4,
 "nbformat_minor": 1
}
